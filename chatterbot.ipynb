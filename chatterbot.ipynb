{
  "nbformat": 4,
  "nbformat_minor": 0,
  "metadata": {
    "colab": {
      "name": "Untitled10.ipynb",
      "provenance": [],
      "collapsed_sections": [],
      "authorship_tag": "ABX9TyMYlOo//I7eJsWUbDflM/qI",
      "include_colab_link": true
    },
    "kernelspec": {
      "name": "python3",
      "display_name": "Python 3"
    },
    "language_info": {
      "name": "python"
    }
  },
  "cells": [
    {
      "cell_type": "markdown",
      "metadata": {
        "id": "view-in-github",
        "colab_type": "text"
      },
      "source": [
        "<a href=\"https://colab.research.google.com/github/AayushJha09/chattbott/blob/main/chatterbot.ipynb\" target=\"_parent\"><img src=\"https://colab.research.google.com/assets/colab-badge.svg\" alt=\"Open In Colab\"/></a>"
      ]
    },
    {
      "cell_type": "code",
      "execution_count": null,
      "metadata": {
        "id": "HltW6nPI2K2k"
      },
      "outputs": [],
      "source": [
        "from chatterbot import ChatBot\n",
        "from chatterbot.trainers import ListTrainer\n",
        "from datetime import date,datetime\n",
        "\n",
        "bot = ChatBot('Buddy',storage_adapter='chatterbot.storage.SQLStorageAdapter',database_uri='sqlite:///database.sqlite3')\n",
        "trainer=ListTrainer(bot)\n",
        "trainer.train([\n",
        "'Hi',\n",
        "'Hello',\n",
        "'Who are You?',\n",
        "'I am a bot created by AAYUSH JHA to help you ',\n",
        "'What is name of college?',\n",
        "'Vidyavardhini College of Engineering',\n",
        "'What is college email?',\n",
        "'It is aayush.2222222@vcet.edu.in',\n",
        "'What are contact available for reference?',\n",
        "'Here is contact number you can refer:9876543210',\n",
        "'What are courses available in VCET?',\n",
        "'Courses available are:CSE-DS,AI-DS,Computers,IT,CIVIL',\n",
        "'How many Seats available for all courses?',\n",
        "'Comps,IT & Civil:120,AI & CSE:60',\n",
        "'What More facilities are provided?',\n",
        "'College has playground,gymkhana,Seminar Halls,Laboratories,Classrooms and much more',\n",
        "'What functions are organized by college?',\n",
        "'College organizes Zeal,Hackathon,Sport Events,Indoor Games and much more.',\n",
        "'Thank You',\n",
        "'Welcome.'\n",
        "])\n",
        "\n",
        "name=input(\"Enter Your Name:\")\n",
        "now=datetime.now()\n",
        "today=now.strftime(\"%A\")\n",
        "time=now.strftime(\"%H:%M:%S\")\n",
        "\n",
        "print(\"Hi,I am Bot Created by Dikshant Buwa\")\n",
        "print(f\"Today is {today},current time is {time}\")\n",
        "print(\"Let Me Know how i can help you?\")\n",
        "\n",
        "while True:\n",
        "    request=input(name+':')\n",
        "    if request=='Bye' or request =='bye':\n",
        "        print('Bot:Bye')\n",
        "        break\n",
        "    else:\n",
        "        response=bot.get_response(request)\n",
        "        print('Bot:',response)"
      ]
    }
  ]
}